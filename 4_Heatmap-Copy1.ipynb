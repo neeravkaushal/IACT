{
 "cells": [
  {
   "cell_type": "code",
   "execution_count": 184,
   "metadata": {},
   "outputs": [
    {
     "name": "stdout",
     "output_type": "stream",
     "text": [
      "Using matplotlib backend: Qt5Agg\n"
     ]
    }
   ],
   "source": [
    "%matplotlib\n",
    "import numpy as np\n",
    "import matplotlib.pyplot as plt\n",
    "import seaborn as sns\n",
    "import warnings\n",
    "warnings.simplefilter('ignore')\n",
    "from scipy import stats\n",
    "\n",
    "c  = 299792458/1.00029\n",
    "h  = 25000\n",
    "L  = 100\n",
    "v  = 1.00029 * c\n",
    "zc = (c*L)/np.sqrt(v*v - c*c)"
   ]
  },
  {
   "cell_type": "markdown",
   "metadata": {},
   "source": [
    "## $ z_c \\hspace{0.3cm} $ vs $  \\hspace{0.3cm}  Brightness $ "
   ]
  },
  {
   "cell_type": "code",
   "execution_count": 220,
   "metadata": {},
   "outputs": [
    {
     "data": {
      "text/plain": [
       "(24, 24, 24, 24, 24)"
      ]
     },
     "execution_count": 220,
     "metadata": {},
     "output_type": "execute_result"
    },
    {
     "data": {
      "text/plain": [
       "array([8.34155926e-05, 8.34146318e-05, 8.34136736e-05, 8.34127185e-05,\n",
       "       8.34117668e-05, 8.34108191e-05, 8.34098761e-05, 8.34089385e-05,\n",
       "       8.34080075e-05, 8.34070843e-05, 8.34061704e-05, 8.34052682e-05,\n",
       "       8.34043805e-05, 8.34035112e-05, 8.34026656e-05, 8.34018517e-05,\n",
       "       8.34010810e-05, 8.34003718e-05, 8.33997542e-05, 8.33992816e-05,\n",
       "       8.33990591e-05, 8.33993261e-05, 8.34007693e-05, 8.34064861e-05])"
      ]
     },
     "execution_count": 220,
     "metadata": {},
     "output_type": "execute_result"
    }
   ],
   "source": [
    "T, Z1, Z2, B1, B2, TH1, TH2 = [], [], [], [], [], [], []\n",
    "times     = np.linspace(1e-6,1e-4,30,endpoint=True)\n",
    "\n",
    "for t in times:\n",
    "    \n",
    "    z  = h - v*t\n",
    "    tt = t + np.sqrt(L*L+z*z)/c\n",
    "       \n",
    "    # SOLVE QUADRATIC FORMULA AND DIRECTLY PROVIDE THE ROOTS\n",
    "    z1   = ( (c*c*h - c*c*tt*v) + np.sqrt((c*c*v*v*h*h) - (2*h*tt*c*c*v*v*v) + (L*L*c*c*v*v) + (c*c*tt*tt*v*v*v*v) - (L*L*v*v*v*v)) ) / (c*c - v*v)\n",
    "    z2   = ( (c*c*h - c*c*tt*v) - np.sqrt((c*c*v*v*h*h) - (2*h*tt*c*c*v*v*v) + (L*L*c*c*v*v) + (c*c*tt*tt*v*v*v*v) - (L*L*v*v*v*v)) ) / (c*c - v*v)\n",
    "    \n",
    "    v1   = ( ( (c*c*v*v*(2*tt*v*v - 2*h*v)) / (2*np.sqrt(c*c*v*v*(h*h+L*L+tt*tt*v*v-2*h*tt*v)-(L*L*v**4)   )) ) - (c*c*v) ) / (c*c - v*v)\n",
    "    v2   = (-( (c*c*v*v*(2*tt*v*v - 2*h*v)) / (2*np.sqrt(c*c*v*v*(h*h+L*L+tt*tt*v*v-2*h*tt*v)-(L*L*v**4)   )) ) - (c*c*v) ) / (c*c - v*v)\n",
    "    \n",
    "    theta1 = np.arctan(z1/L)\n",
    "    theta2 = np.arctan(z2/L)\n",
    "    \n",
    "    v1t  = v1 * np.cos(theta1)\n",
    "    v2t  = v2 * np.cos(theta2)\n",
    "    \n",
    "    omg1 = v1t / np.sqrt(L*L + z1*z1)\n",
    "    omg2 = v2t / np.sqrt(L*L + z2*z2)\n",
    "    \n",
    "    b1   = abs(omg1 / (L*L + z1*z1) )\n",
    "    b2   = abs(omg2 / (L*L + z2*z2) )      \n",
    "    \n",
    "    if (z1>25000) or (z1<0) or (z2>25000) or (z2<0):\n",
    "        pass\n",
    "    else:\n",
    "        T .append(tt)\n",
    "        Z1.append(z1)\n",
    "        Z2.append(z2)\n",
    "        B1.append(b1)\n",
    "        B2.append(b2)\n",
    "        TH1.append(np.rad2deg(theta1))\n",
    "        TH2.append(np.rad2deg(theta2))\n",
    "        \n",
    "T  = np.array(T )\n",
    "Z1 = np.array(Z1)\n",
    "Z2 = np.array(Z2)\n",
    "B1 = np.array(B1)\n",
    "B2 = np.array(B2)\n",
    "TH1 = np.array(TH1)\n",
    "TH2 = np.array(TH2)\n",
    "\n",
    "T.shape[0], Z1.shape[0], Z2.shape[0], B1.shape[0], B2.shape[0]\n",
    "\n",
    "def ground_brightness(tt, z1=0, theta=0):\n",
    "    v1   = ( ( (c*c*v*v*(2*tt*v*v - 2*h*v)) / (2*np.sqrt(c*c*v*v*(h*h+L*L+tt*tt*v*v-2*h*tt*v)-(L*L*v**4)   )) ) - (c*c*v) ) / (c*c - v*v)\n",
    "    v1t  = v1 * np.cos(theta)\n",
    "    omg1 = v1t / np.sqrt(L*L + z1*z1)\n",
    "    bg   = abs(omg1 / (L*L + z1*z1) )\n",
    "    return bg\n",
    "\n",
    "Bg = ground_brightness(((h/v)+(L/c)), 0, 0)\n",
    "T"
   ]
  },
  {
   "cell_type": "code",
   "execution_count": 212,
   "metadata": {},
   "outputs": [],
   "source": [
    "B1 = B1/Bg\n",
    "B2 = B2/Bg"
   ]
  },
  {
   "cell_type": "code",
   "execution_count": 221,
   "metadata": {},
   "outputs": [],
   "source": [
    "args = np.argsort(T)\n",
    "T = T[args]\n",
    "B1 = B1[args]\n",
    "B2 = B2[args]\n",
    "TH1 = TH1[args]\n",
    "TH2 = TH2[args]"
   ]
  },
  {
   "cell_type": "code",
   "execution_count": 235,
   "metadata": {},
   "outputs": [
    {
     "data": {
      "text/plain": [
       "array([88.594, 88.254, 88.215, 87.914, 87.574, 87.379, 87.234, 86.894,\n",
       "       86.555, 86.215, 85.875, 85.536, 85.196, 85.079, 84.857, 84.517,\n",
       "       84.178, 83.839, 83.5  , 83.161, 82.822, 82.484, 82.145, 81.807])"
      ]
     },
     "execution_count": 235,
     "metadata": {},
     "output_type": "execute_result"
    }
   ],
   "source": [
    "TH1.round(3)"
   ]
  },
  {
   "cell_type": "code",
   "execution_count": 231,
   "metadata": {},
   "outputs": [
    {
     "data": {
      "text/plain": [
       "array([83399.05911862, 83399.28157848, 83399.32607594, 83399.75420724,\n",
       "       83400.37184052, 83400.7692985 , 83401.08101205, 83401.85166339,\n",
       "       83402.66559783, 83403.51115478, 83404.38051699, 83405.26824763,\n",
       "       83406.17044835, 83406.48611837, 83407.08425103, 83408.00749855,\n",
       "       83408.93853734, 83409.87607856, 83410.81910275, 83411.766793  ,\n",
       "       83412.71848699, 83413.67364209, 83414.6318095 , 83415.59261478])"
      ]
     },
     "execution_count": 231,
     "metadata": {},
     "output_type": "execute_result"
    }
   ],
   "source": [
    "T*1e+9"
   ]
  },
  {
   "cell_type": "code",
   "execution_count": 236,
   "metadata": {},
   "outputs": [
    {
     "data": {
      "text/plain": [
       "array([88.646, 88.91 , 88.934, 89.088, 89.215, 89.274, 89.312, 89.387,\n",
       "       89.448, 89.497, 89.539, 89.574, 89.604, 89.613, 89.63 , 89.653,\n",
       "       89.673, 89.691, 89.707, 89.722, 89.735, 89.747, 89.758, 89.768])"
      ]
     },
     "execution_count": 236,
     "metadata": {},
     "output_type": "execute_result"
    }
   ],
   "source": [
    "TH2.round(3)"
   ]
  },
  {
   "cell_type": "code",
   "execution_count": 238,
   "metadata": {},
   "outputs": [
    {
     "data": {
      "text/plain": [
       "array([83399.05911862, 83399.28157848])"
      ]
     },
     "execution_count": 238,
     "metadata": {},
     "output_type": "execute_result"
    },
    {
     "data": {
      "text/plain": [
       "array([88.59384625, 88.64625935])"
      ]
     },
     "execution_count": 238,
     "metadata": {},
     "output_type": "execute_result"
    }
   ],
   "source": [
    "s = 2\n",
    "t = int(s/2)\n",
    "tx = T[:s]#.reshape(-1,1)\n",
    "bx = np.concatenate((B1 [:t], B2 [:t]))#.reshape(-1,1)\n",
    "ax = np.concatenate((TH1[:t], TH2[:t]))#.reshape(-1,1)\n",
    "tx*1e+9\n",
    "ax"
   ]
  },
  {
   "cell_type": "code",
   "execution_count": 239,
   "metadata": {},
   "outputs": [
    {
     "data": {
      "text/plain": [
       "array([83399.05911862, 83399.28157848, 83399.32607594, 83399.75420724])"
      ]
     },
     "execution_count": 239,
     "metadata": {},
     "output_type": "execute_result"
    },
    {
     "data": {
      "text/plain": [
       "array([88.59384625, 88.25389612, 88.64625935, 88.90983184])"
      ]
     },
     "execution_count": 239,
     "metadata": {},
     "output_type": "execute_result"
    }
   ],
   "source": [
    "s = 4\n",
    "t = int(s/2)\n",
    "tx = T[:s]#.reshape(-1,1)\n",
    "bx = np.concatenate((B1 [:t], B2 [:t]))#.reshape(-1,1)\n",
    "ax = np.concatenate((TH1[:t], TH2[:t]))#.reshape(-1,1)\n",
    "tx*1e+9\n",
    "ax"
   ]
  },
  {
   "cell_type": "code",
   "execution_count": 226,
   "metadata": {},
   "outputs": [
    {
     "data": {
      "text/plain": [
       "<Figure size 640x480 with 0 Axes>"
      ]
     },
     "execution_count": 226,
     "metadata": {},
     "output_type": "execute_result"
    },
    {
     "name": "stdout",
     "output_type": "stream",
     "text": [
      "[8.33990591e-05 8.33992816e-05]\n"
     ]
    },
    {
     "data": {
      "text/plain": [
       "<matplotlib.collections.PathCollection at 0x7f9792d3d630>"
      ]
     },
     "execution_count": 226,
     "metadata": {},
     "output_type": "execute_result"
    },
    {
     "data": {
      "text/plain": [
       "Text(0.5, 0, 'Time')"
      ]
     },
     "execution_count": 226,
     "metadata": {},
     "output_type": "execute_result"
    },
    {
     "data": {
      "text/plain": [
       "Text(0, 0.5, 'Angle')"
      ]
     },
     "execution_count": 226,
     "metadata": {},
     "output_type": "execute_result"
    },
    {
     "data": {
      "text/plain": [
       "Text(0.5, 1.0, 'First 2 Time Points')"
      ]
     },
     "execution_count": 226,
     "metadata": {},
     "output_type": "execute_result"
    },
    {
     "data": {
      "text/plain": [
       "(8.339e-05, 8.3425e-05)"
      ]
     },
     "execution_count": 226,
     "metadata": {},
     "output_type": "execute_result"
    },
    {
     "data": {
      "text/plain": [
       "(85.4, 89.6)"
      ]
     },
     "execution_count": 226,
     "metadata": {},
     "output_type": "execute_result"
    },
    {
     "data": {
      "text/plain": [
       "<Figure size 640x480 with 0 Axes>"
      ]
     },
     "execution_count": 226,
     "metadata": {},
     "output_type": "execute_result"
    },
    {
     "name": "stdout",
     "output_type": "stream",
     "text": [
      "[8.33990591e-05 8.33992816e-05 8.33993261e-05 8.33997542e-05]\n"
     ]
    },
    {
     "data": {
      "text/plain": [
       "<matplotlib.collections.PathCollection at 0x7f97854956a0>"
      ]
     },
     "execution_count": 226,
     "metadata": {},
     "output_type": "execute_result"
    },
    {
     "data": {
      "text/plain": [
       "Text(0.5, 0, 'Time')"
      ]
     },
     "execution_count": 226,
     "metadata": {},
     "output_type": "execute_result"
    },
    {
     "data": {
      "text/plain": [
       "Text(0, 0.5, 'Angle')"
      ]
     },
     "execution_count": 226,
     "metadata": {},
     "output_type": "execute_result"
    },
    {
     "data": {
      "text/plain": [
       "Text(0.5, 1.0, 'First 4 Time Points')"
      ]
     },
     "execution_count": 226,
     "metadata": {},
     "output_type": "execute_result"
    },
    {
     "data": {
      "text/plain": [
       "(8.339e-05, 8.3425e-05)"
      ]
     },
     "execution_count": 226,
     "metadata": {},
     "output_type": "execute_result"
    },
    {
     "data": {
      "text/plain": [
       "(85.4, 89.6)"
      ]
     },
     "execution_count": 226,
     "metadata": {},
     "output_type": "execute_result"
    },
    {
     "data": {
      "text/plain": [
       "<Figure size 640x480 with 0 Axes>"
      ]
     },
     "execution_count": 226,
     "metadata": {},
     "output_type": "execute_result"
    },
    {
     "name": "stdout",
     "output_type": "stream",
     "text": [
      "[8.33990591e-05 8.33992816e-05 8.33993261e-05 8.33997542e-05\n",
      " 8.34003718e-05 8.34007693e-05]\n"
     ]
    },
    {
     "data": {
      "text/plain": [
       "<matplotlib.collections.PathCollection at 0x7f97850ea978>"
      ]
     },
     "execution_count": 226,
     "metadata": {},
     "output_type": "execute_result"
    },
    {
     "data": {
      "text/plain": [
       "Text(0.5, 0, 'Time')"
      ]
     },
     "execution_count": 226,
     "metadata": {},
     "output_type": "execute_result"
    },
    {
     "data": {
      "text/plain": [
       "Text(0, 0.5, 'Angle')"
      ]
     },
     "execution_count": 226,
     "metadata": {},
     "output_type": "execute_result"
    },
    {
     "data": {
      "text/plain": [
       "Text(0.5, 1.0, 'First 6 Time Points')"
      ]
     },
     "execution_count": 226,
     "metadata": {},
     "output_type": "execute_result"
    },
    {
     "data": {
      "text/plain": [
       "(8.339e-05, 8.3425e-05)"
      ]
     },
     "execution_count": 226,
     "metadata": {},
     "output_type": "execute_result"
    },
    {
     "data": {
      "text/plain": [
       "(85.4, 89.6)"
      ]
     },
     "execution_count": 226,
     "metadata": {},
     "output_type": "execute_result"
    },
    {
     "data": {
      "text/plain": [
       "<Figure size 640x480 with 0 Axes>"
      ]
     },
     "execution_count": 226,
     "metadata": {},
     "output_type": "execute_result"
    },
    {
     "name": "stdout",
     "output_type": "stream",
     "text": [
      "[8.33990591e-05 8.33992816e-05 8.33993261e-05 8.33997542e-05\n",
      " 8.34003718e-05 8.34007693e-05 8.34010810e-05 8.34018517e-05]\n"
     ]
    },
    {
     "data": {
      "text/plain": [
       "<matplotlib.collections.PathCollection at 0x7f9785254438>"
      ]
     },
     "execution_count": 226,
     "metadata": {},
     "output_type": "execute_result"
    },
    {
     "data": {
      "text/plain": [
       "Text(0.5, 0, 'Time')"
      ]
     },
     "execution_count": 226,
     "metadata": {},
     "output_type": "execute_result"
    },
    {
     "data": {
      "text/plain": [
       "Text(0, 0.5, 'Angle')"
      ]
     },
     "execution_count": 226,
     "metadata": {},
     "output_type": "execute_result"
    },
    {
     "data": {
      "text/plain": [
       "Text(0.5, 1.0, 'First 8 Time Points')"
      ]
     },
     "execution_count": 226,
     "metadata": {},
     "output_type": "execute_result"
    },
    {
     "data": {
      "text/plain": [
       "(8.339e-05, 8.3425e-05)"
      ]
     },
     "execution_count": 226,
     "metadata": {},
     "output_type": "execute_result"
    },
    {
     "data": {
      "text/plain": [
       "(85.4, 89.6)"
      ]
     },
     "execution_count": 226,
     "metadata": {},
     "output_type": "execute_result"
    },
    {
     "data": {
      "text/plain": [
       "<Figure size 640x480 with 0 Axes>"
      ]
     },
     "execution_count": 226,
     "metadata": {},
     "output_type": "execute_result"
    },
    {
     "name": "stdout",
     "output_type": "stream",
     "text": [
      "[8.33990591e-05 8.33992816e-05 8.33993261e-05 8.33997542e-05\n",
      " 8.34003718e-05 8.34007693e-05 8.34010810e-05 8.34018517e-05\n",
      " 8.34026656e-05 8.34035112e-05]\n"
     ]
    },
    {
     "data": {
      "text/plain": [
       "<matplotlib.collections.PathCollection at 0x7f97981eaf60>"
      ]
     },
     "execution_count": 226,
     "metadata": {},
     "output_type": "execute_result"
    },
    {
     "data": {
      "text/plain": [
       "Text(0.5, 0, 'Time')"
      ]
     },
     "execution_count": 226,
     "metadata": {},
     "output_type": "execute_result"
    },
    {
     "data": {
      "text/plain": [
       "Text(0, 0.5, 'Angle')"
      ]
     },
     "execution_count": 226,
     "metadata": {},
     "output_type": "execute_result"
    },
    {
     "data": {
      "text/plain": [
       "Text(0.5, 1.0, 'First 10 Time Points')"
      ]
     },
     "execution_count": 226,
     "metadata": {},
     "output_type": "execute_result"
    },
    {
     "data": {
      "text/plain": [
       "(8.339e-05, 8.3425e-05)"
      ]
     },
     "execution_count": 226,
     "metadata": {},
     "output_type": "execute_result"
    },
    {
     "data": {
      "text/plain": [
       "(85.4, 89.6)"
      ]
     },
     "execution_count": 226,
     "metadata": {},
     "output_type": "execute_result"
    },
    {
     "data": {
      "text/plain": [
       "<Figure size 640x480 with 0 Axes>"
      ]
     },
     "execution_count": 226,
     "metadata": {},
     "output_type": "execute_result"
    },
    {
     "name": "stdout",
     "output_type": "stream",
     "text": [
      "[8.33990591e-05 8.33992816e-05 8.33993261e-05 8.33997542e-05\n",
      " 8.34003718e-05 8.34007693e-05 8.34010810e-05 8.34018517e-05\n",
      " 8.34026656e-05 8.34035112e-05 8.34043805e-05 8.34052682e-05]\n"
     ]
    },
    {
     "data": {
      "text/plain": [
       "<matplotlib.collections.PathCollection at 0x7f979eb79358>"
      ]
     },
     "execution_count": 226,
     "metadata": {},
     "output_type": "execute_result"
    },
    {
     "data": {
      "text/plain": [
       "Text(0.5, 0, 'Time')"
      ]
     },
     "execution_count": 226,
     "metadata": {},
     "output_type": "execute_result"
    },
    {
     "data": {
      "text/plain": [
       "Text(0, 0.5, 'Angle')"
      ]
     },
     "execution_count": 226,
     "metadata": {},
     "output_type": "execute_result"
    },
    {
     "data": {
      "text/plain": [
       "Text(0.5, 1.0, 'First 12 Time Points')"
      ]
     },
     "execution_count": 226,
     "metadata": {},
     "output_type": "execute_result"
    },
    {
     "data": {
      "text/plain": [
       "(8.339e-05, 8.3425e-05)"
      ]
     },
     "execution_count": 226,
     "metadata": {},
     "output_type": "execute_result"
    },
    {
     "data": {
      "text/plain": [
       "(85.4, 89.6)"
      ]
     },
     "execution_count": 226,
     "metadata": {},
     "output_type": "execute_result"
    },
    {
     "data": {
      "text/plain": [
       "<Figure size 640x480 with 0 Axes>"
      ]
     },
     "execution_count": 226,
     "metadata": {},
     "output_type": "execute_result"
    },
    {
     "name": "stdout",
     "output_type": "stream",
     "text": [
      "[8.33990591e-05 8.33992816e-05 8.33993261e-05 8.33997542e-05\n",
      " 8.34003718e-05 8.34007693e-05 8.34010810e-05 8.34018517e-05\n",
      " 8.34026656e-05 8.34035112e-05 8.34043805e-05 8.34052682e-05\n",
      " 8.34061704e-05 8.34064861e-05]\n"
     ]
    },
    {
     "data": {
      "text/plain": [
       "<matplotlib.collections.PathCollection at 0x7f9785411ac8>"
      ]
     },
     "execution_count": 226,
     "metadata": {},
     "output_type": "execute_result"
    },
    {
     "data": {
      "text/plain": [
       "Text(0.5, 0, 'Time')"
      ]
     },
     "execution_count": 226,
     "metadata": {},
     "output_type": "execute_result"
    },
    {
     "data": {
      "text/plain": [
       "Text(0, 0.5, 'Angle')"
      ]
     },
     "execution_count": 226,
     "metadata": {},
     "output_type": "execute_result"
    },
    {
     "data": {
      "text/plain": [
       "Text(0.5, 1.0, 'First 14 Time Points')"
      ]
     },
     "execution_count": 226,
     "metadata": {},
     "output_type": "execute_result"
    },
    {
     "data": {
      "text/plain": [
       "(8.339e-05, 8.3425e-05)"
      ]
     },
     "execution_count": 226,
     "metadata": {},
     "output_type": "execute_result"
    },
    {
     "data": {
      "text/plain": [
       "(85.4, 89.6)"
      ]
     },
     "execution_count": 226,
     "metadata": {},
     "output_type": "execute_result"
    },
    {
     "data": {
      "text/plain": [
       "<Figure size 640x480 with 0 Axes>"
      ]
     },
     "execution_count": 226,
     "metadata": {},
     "output_type": "execute_result"
    },
    {
     "name": "stdout",
     "output_type": "stream",
     "text": [
      "[8.33990591e-05 8.33992816e-05 8.33993261e-05 8.33997542e-05\n",
      " 8.34003718e-05 8.34007693e-05 8.34010810e-05 8.34018517e-05\n",
      " 8.34026656e-05 8.34035112e-05 8.34043805e-05 8.34052682e-05\n",
      " 8.34061704e-05 8.34064861e-05 8.34070843e-05 8.34080075e-05]\n"
     ]
    },
    {
     "data": {
      "text/plain": [
       "<matplotlib.collections.PathCollection at 0x7f9798381e48>"
      ]
     },
     "execution_count": 226,
     "metadata": {},
     "output_type": "execute_result"
    },
    {
     "data": {
      "text/plain": [
       "Text(0.5, 0, 'Time')"
      ]
     },
     "execution_count": 226,
     "metadata": {},
     "output_type": "execute_result"
    },
    {
     "data": {
      "text/plain": [
       "Text(0, 0.5, 'Angle')"
      ]
     },
     "execution_count": 226,
     "metadata": {},
     "output_type": "execute_result"
    },
    {
     "data": {
      "text/plain": [
       "Text(0.5, 1.0, 'First 16 Time Points')"
      ]
     },
     "execution_count": 226,
     "metadata": {},
     "output_type": "execute_result"
    },
    {
     "data": {
      "text/plain": [
       "(8.339e-05, 8.3425e-05)"
      ]
     },
     "execution_count": 226,
     "metadata": {},
     "output_type": "execute_result"
    },
    {
     "data": {
      "text/plain": [
       "(85.4, 89.6)"
      ]
     },
     "execution_count": 226,
     "metadata": {},
     "output_type": "execute_result"
    },
    {
     "data": {
      "text/plain": [
       "<Figure size 640x480 with 0 Axes>"
      ]
     },
     "execution_count": 226,
     "metadata": {},
     "output_type": "execute_result"
    },
    {
     "name": "stdout",
     "output_type": "stream",
     "text": [
      "[8.33990591e-05 8.33992816e-05 8.33993261e-05 8.33997542e-05\n",
      " 8.34003718e-05 8.34007693e-05 8.34010810e-05 8.34018517e-05\n",
      " 8.34026656e-05 8.34035112e-05 8.34043805e-05 8.34052682e-05\n",
      " 8.34061704e-05 8.34064861e-05 8.34070843e-05 8.34080075e-05\n",
      " 8.34089385e-05 8.34098761e-05]\n"
     ]
    },
    {
     "data": {
      "text/plain": [
       "<matplotlib.collections.PathCollection at 0x7f979830ca90>"
      ]
     },
     "execution_count": 226,
     "metadata": {},
     "output_type": "execute_result"
    },
    {
     "data": {
      "text/plain": [
       "Text(0.5, 0, 'Time')"
      ]
     },
     "execution_count": 226,
     "metadata": {},
     "output_type": "execute_result"
    },
    {
     "data": {
      "text/plain": [
       "Text(0, 0.5, 'Angle')"
      ]
     },
     "execution_count": 226,
     "metadata": {},
     "output_type": "execute_result"
    },
    {
     "data": {
      "text/plain": [
       "Text(0.5, 1.0, 'First 18 Time Points')"
      ]
     },
     "execution_count": 226,
     "metadata": {},
     "output_type": "execute_result"
    },
    {
     "data": {
      "text/plain": [
       "(8.339e-05, 8.3425e-05)"
      ]
     },
     "execution_count": 226,
     "metadata": {},
     "output_type": "execute_result"
    },
    {
     "data": {
      "text/plain": [
       "(85.4, 89.6)"
      ]
     },
     "execution_count": 226,
     "metadata": {},
     "output_type": "execute_result"
    },
    {
     "data": {
      "text/plain": [
       "<Figure size 640x480 with 0 Axes>"
      ]
     },
     "execution_count": 226,
     "metadata": {},
     "output_type": "execute_result"
    },
    {
     "name": "stdout",
     "output_type": "stream",
     "text": [
      "[8.33990591e-05 8.33992816e-05 8.33993261e-05 8.33997542e-05\n",
      " 8.34003718e-05 8.34007693e-05 8.34010810e-05 8.34018517e-05\n",
      " 8.34026656e-05 8.34035112e-05 8.34043805e-05 8.34052682e-05\n",
      " 8.34061704e-05 8.34064861e-05 8.34070843e-05 8.34080075e-05\n",
      " 8.34089385e-05 8.34098761e-05 8.34108191e-05 8.34117668e-05]\n"
     ]
    },
    {
     "data": {
      "text/plain": [
       "<matplotlib.collections.PathCollection at 0x7f9789296358>"
      ]
     },
     "execution_count": 226,
     "metadata": {},
     "output_type": "execute_result"
    },
    {
     "data": {
      "text/plain": [
       "Text(0.5, 0, 'Time')"
      ]
     },
     "execution_count": 226,
     "metadata": {},
     "output_type": "execute_result"
    },
    {
     "data": {
      "text/plain": [
       "Text(0, 0.5, 'Angle')"
      ]
     },
     "execution_count": 226,
     "metadata": {},
     "output_type": "execute_result"
    },
    {
     "data": {
      "text/plain": [
       "Text(0.5, 1.0, 'First 20 Time Points')"
      ]
     },
     "execution_count": 226,
     "metadata": {},
     "output_type": "execute_result"
    },
    {
     "data": {
      "text/plain": [
       "(8.339e-05, 8.3425e-05)"
      ]
     },
     "execution_count": 226,
     "metadata": {},
     "output_type": "execute_result"
    },
    {
     "data": {
      "text/plain": [
       "(85.4, 89.6)"
      ]
     },
     "execution_count": 226,
     "metadata": {},
     "output_type": "execute_result"
    },
    {
     "data": {
      "text/plain": [
       "<Figure size 640x480 with 0 Axes>"
      ]
     },
     "execution_count": 226,
     "metadata": {},
     "output_type": "execute_result"
    },
    {
     "name": "stdout",
     "output_type": "stream",
     "text": [
      "[8.33990591e-05 8.33992816e-05 8.33993261e-05 8.33997542e-05\n",
      " 8.34003718e-05 8.34007693e-05 8.34010810e-05 8.34018517e-05\n",
      " 8.34026656e-05 8.34035112e-05 8.34043805e-05 8.34052682e-05\n",
      " 8.34061704e-05 8.34064861e-05 8.34070843e-05 8.34080075e-05\n",
      " 8.34089385e-05 8.34098761e-05 8.34108191e-05 8.34117668e-05\n",
      " 8.34127185e-05 8.34136736e-05]\n"
     ]
    },
    {
     "data": {
      "text/plain": [
       "<matplotlib.collections.PathCollection at 0x7f979249c748>"
      ]
     },
     "execution_count": 226,
     "metadata": {},
     "output_type": "execute_result"
    },
    {
     "data": {
      "text/plain": [
       "Text(0.5, 0, 'Time')"
      ]
     },
     "execution_count": 226,
     "metadata": {},
     "output_type": "execute_result"
    },
    {
     "data": {
      "text/plain": [
       "Text(0, 0.5, 'Angle')"
      ]
     },
     "execution_count": 226,
     "metadata": {},
     "output_type": "execute_result"
    },
    {
     "data": {
      "text/plain": [
       "Text(0.5, 1.0, 'First 22 Time Points')"
      ]
     },
     "execution_count": 226,
     "metadata": {},
     "output_type": "execute_result"
    },
    {
     "data": {
      "text/plain": [
       "(8.339e-05, 8.3425e-05)"
      ]
     },
     "execution_count": 226,
     "metadata": {},
     "output_type": "execute_result"
    },
    {
     "data": {
      "text/plain": [
       "(85.4, 89.6)"
      ]
     },
     "execution_count": 226,
     "metadata": {},
     "output_type": "execute_result"
    },
    {
     "data": {
      "text/plain": [
       "<Figure size 640x480 with 0 Axes>"
      ]
     },
     "execution_count": 226,
     "metadata": {},
     "output_type": "execute_result"
    },
    {
     "name": "stdout",
     "output_type": "stream",
     "text": [
      "[8.33990591e-05 8.33992816e-05 8.33993261e-05 8.33997542e-05\n",
      " 8.34003718e-05 8.34007693e-05 8.34010810e-05 8.34018517e-05\n",
      " 8.34026656e-05 8.34035112e-05 8.34043805e-05 8.34052682e-05\n",
      " 8.34061704e-05 8.34064861e-05 8.34070843e-05 8.34080075e-05\n",
      " 8.34089385e-05 8.34098761e-05 8.34108191e-05 8.34117668e-05\n",
      " 8.34127185e-05 8.34136736e-05 8.34146318e-05 8.34155926e-05]\n"
     ]
    },
    {
     "data": {
      "text/plain": [
       "<matplotlib.collections.PathCollection at 0x7f979eb36cc0>"
      ]
     },
     "execution_count": 226,
     "metadata": {},
     "output_type": "execute_result"
    },
    {
     "data": {
      "text/plain": [
       "Text(0.5, 0, 'Time')"
      ]
     },
     "execution_count": 226,
     "metadata": {},
     "output_type": "execute_result"
    },
    {
     "data": {
      "text/plain": [
       "Text(0, 0.5, 'Angle')"
      ]
     },
     "execution_count": 226,
     "metadata": {},
     "output_type": "execute_result"
    },
    {
     "data": {
      "text/plain": [
       "Text(0.5, 1.0, 'First 24 Time Points')"
      ]
     },
     "execution_count": 226,
     "metadata": {},
     "output_type": "execute_result"
    },
    {
     "data": {
      "text/plain": [
       "(8.339e-05, 8.3425e-05)"
      ]
     },
     "execution_count": 226,
     "metadata": {},
     "output_type": "execute_result"
    },
    {
     "data": {
      "text/plain": [
       "(85.4, 89.6)"
      ]
     },
     "execution_count": 226,
     "metadata": {},
     "output_type": "execute_result"
    }
   ],
   "source": [
    "points = np.arange(2,100,4)\n",
    "for i in points:\n",
    "    plt.figure()\n",
    "    s = i\n",
    "    t = int(s/2)\n",
    "    \n",
    "    tx = T[:s]#.reshape(-1,1)\n",
    "    bx = np.concatenate((B1 [:t], B2 [:t]))#.reshape(-1,1)\n",
    "    ax = np.concatenate((TH1[:t], TH2[:t]))#.reshape(-1,1)\n",
    "    print(tx)\n",
    "\n",
    "    import matplotlib\n",
    "    import matplotlib.pyplot as plt\n",
    "    import random\n",
    "\n",
    "    x         = list(tx)\n",
    "    y         = list(ax)\n",
    "    z         = list(bx)\n",
    "    cmap      = matplotlib.cm.get_cmap('viridis')\n",
    "    normalize = matplotlib.colors.Normalize(0,10)#vmin=min(z), vmax=max(z))\n",
    "    colors    = [cmap(normalize(value)) for value in z]\n",
    "\n",
    "    fig, ax   = plt.subplots(figsize=(10,10))\n",
    "    plt.scatter(x, y, c=colors, s=50);\n",
    "    plt.xlabel('Time');\n",
    "    plt.ylabel('Angle');\n",
    "    plt.title('First {} Time Points'.format(s));\n",
    "    plt.xlim(0.000083390,0.000083425);\n",
    "    plt.ylim(85.4,89.6)\n",
    "    cax, _ = matplotlib.colorbar.make_axes(ax);\n",
    "    cbar = matplotlib.colorbar.ColorbarBase(cax, cmap=cmap, norm=normalize, label='Relative Brightness');\n",
    "    plt.savefig('/home/kaushal/Videos/{}.png'.format(i));"
   ]
  },
  {
   "cell_type": "code",
   "execution_count": 217,
   "metadata": {},
   "outputs": [
    {
     "ename": "AttributeError",
     "evalue": "'AxesSubplot' object has no attribute 'shape'",
     "output_type": "error",
     "traceback": [
      "\u001b[0;31m---------------------------------------------------------------------------\u001b[0m",
      "\u001b[0;31mAttributeError\u001b[0m                            Traceback (most recent call last)",
      "\u001b[0;32m<ipython-input-217-80a8207e0944>\u001b[0m in \u001b[0;36m<module>\u001b[0;34m\u001b[0m\n\u001b[0;32m----> 1\u001b[0;31m \u001b[0mtx\u001b[0m\u001b[0;34m.\u001b[0m\u001b[0mshape\u001b[0m\u001b[0;34m,\u001b[0m \u001b[0mbx\u001b[0m\u001b[0;34m.\u001b[0m\u001b[0mshape\u001b[0m\u001b[0;34m,\u001b[0m \u001b[0max\u001b[0m\u001b[0;34m.\u001b[0m\u001b[0mshape\u001b[0m\u001b[0;34m\u001b[0m\u001b[0;34m\u001b[0m\u001b[0m\n\u001b[0m\u001b[1;32m      2\u001b[0m \u001b[0msns\u001b[0m\u001b[0;34m.\u001b[0m\u001b[0mjointplot\u001b[0m\u001b[0;34m(\u001b[0m\u001b[0mbx\u001b[0m\u001b[0;34m,\u001b[0m\u001b[0max\u001b[0m\u001b[0;34m,\u001b[0m\u001b[0mkind\u001b[0m\u001b[0;34m=\u001b[0m\u001b[0;34m'hex'\u001b[0m\u001b[0;34m)\u001b[0m\u001b[0;34m.\u001b[0m\u001b[0mset_axis_labels\u001b[0m\u001b[0;34m(\u001b[0m\u001b[0;34m\"Relative Brightness\"\u001b[0m\u001b[0;34m,\u001b[0m\u001b[0;34m\"Angle\"\u001b[0m\u001b[0;34m)\u001b[0m\u001b[0;34m\u001b[0m\u001b[0;34m\u001b[0m\u001b[0m\n",
      "\u001b[0;31mAttributeError\u001b[0m: 'AxesSubplot' object has no attribute 'shape'"
     ]
    }
   ],
   "source": [
    "tx.shape, bx.shape, ax.shape\n",
    "sns.jointplot(bx,ax,kind='hex').set_axis_labels(\"Relative Brightness\",\"Angle\")"
   ]
  },
  {
   "cell_type": "code",
   "execution_count": 124,
   "metadata": {},
   "outputs": [
    {
     "data": {
      "text/plain": [
       "<seaborn.axisgrid.JointGrid at 0x7f979d90bc88>"
      ]
     },
     "execution_count": 124,
     "metadata": {},
     "output_type": "execute_result"
    }
   ],
   "source": [
    "g = sns.jointplot(bx, ax, kind=\"hex\")\n",
    "g.ax_marg_x.set_axis_off()\n",
    "g.ax_marg_y.set_axis_off()\n",
    "g.set_axis_labels(\"Relative Brightness\",\"Angle\")"
   ]
  },
  {
   "cell_type": "code",
   "execution_count": 107,
   "metadata": {},
   "outputs": [
    {
     "data": {
      "text/plain": [
       "(array([[8.34155926e-05],\n",
       "        [8.34155912e-05],\n",
       "        [8.34155898e-05],\n",
       "        ...,\n",
       "        [8.34128179e-05],\n",
       "        [8.34128165e-05],\n",
       "        [8.34128151e-05]]), array([[4.15802761e-02],\n",
       "        [4.15754997e-02],\n",
       "        [4.15707231e-02],\n",
       "        ...,\n",
       "        [1.22520578e-06],\n",
       "        [1.22552421e-06],\n",
       "        [1.22584274e-06]]), array([[81.80688396],\n",
       "        [81.80737464],\n",
       "        [81.80786531],\n",
       "        ...,\n",
       "        [89.75325619],\n",
       "        [89.75324042],\n",
       "        [89.75322464]]))"
      ]
     },
     "execution_count": 107,
     "metadata": {},
     "output_type": "execute_result"
    },
    {
     "ename": "TypeError",
     "evalue": "'bool' object is not callable",
     "output_type": "error",
     "traceback": [
      "\u001b[0;31m---------------------------------------------------------------------------\u001b[0m",
      "\u001b[0;31mTypeError\u001b[0m                                 Traceback (most recent call last)",
      "\u001b[0;32m<ipython-input-107-fd91fca01bbd>\u001b[0m in \u001b[0;36m<module>\u001b[0;34m\u001b[0m\n\u001b[1;32m      2\u001b[0m \u001b[0;34m\u001b[0m\u001b[0m\n\u001b[1;32m      3\u001b[0m \u001b[0mg\u001b[0m \u001b[0;34m=\u001b[0m \u001b[0msns\u001b[0m\u001b[0;34m.\u001b[0m\u001b[0mJointGrid\u001b[0m\u001b[0;34m(\u001b[0m\u001b[0max\u001b[0m\u001b[0;34m,\u001b[0m \u001b[0mbx\u001b[0m\u001b[0;34m,\u001b[0m \u001b[0mratio\u001b[0m\u001b[0;34m=\u001b[0m\u001b[0;36m100\u001b[0m\u001b[0;34m)\u001b[0m\u001b[0;34m\u001b[0m\u001b[0;34m\u001b[0m\u001b[0m\n\u001b[0;32m----> 4\u001b[0;31m \u001b[0mg\u001b[0m\u001b[0;34m.\u001b[0m\u001b[0mplot_marginals\u001b[0m\u001b[0;34m(\u001b[0m\u001b[0;32mFalse\u001b[0m\u001b[0;34m)\u001b[0m\u001b[0;34m\u001b[0m\u001b[0;34m\u001b[0m\u001b[0m\n\u001b[0m\u001b[1;32m      5\u001b[0m \u001b[0mg\u001b[0m\u001b[0;34m.\u001b[0m\u001b[0mplot_joint\u001b[0m\u001b[0;34m(\u001b[0m\u001b[0msns\u001b[0m\u001b[0;34m.\u001b[0m\u001b[0mscatterplot\u001b[0m\u001b[0;34m)\u001b[0m\u001b[0;34m\u001b[0m\u001b[0;34m\u001b[0m\u001b[0m\n\u001b[1;32m      6\u001b[0m \u001b[0mg\u001b[0m\u001b[0;34m.\u001b[0m\u001b[0max_marg_x\u001b[0m\u001b[0;34m.\u001b[0m\u001b[0mset_axis_off\u001b[0m\u001b[0;34m(\u001b[0m\u001b[0;34m)\u001b[0m\u001b[0;34m\u001b[0m\u001b[0;34m\u001b[0m\u001b[0m\n",
      "\u001b[0;32m~/anaconda3/lib/python3.7/site-packages/seaborn/axisgrid.py\u001b[0m in \u001b[0;36mplot_marginals\u001b[0;34m(self, func, **kwargs)\u001b[0m\n\u001b[1;32m   1807\u001b[0m         \u001b[0mkwargs\u001b[0m\u001b[0;34m[\u001b[0m\u001b[0;34m\"vertical\"\u001b[0m\u001b[0;34m]\u001b[0m \u001b[0;34m=\u001b[0m \u001b[0;32mFalse\u001b[0m\u001b[0;34m\u001b[0m\u001b[0;34m\u001b[0m\u001b[0m\n\u001b[1;32m   1808\u001b[0m         \u001b[0mplt\u001b[0m\u001b[0;34m.\u001b[0m\u001b[0msca\u001b[0m\u001b[0;34m(\u001b[0m\u001b[0mself\u001b[0m\u001b[0;34m.\u001b[0m\u001b[0max_marg_x\u001b[0m\u001b[0;34m)\u001b[0m\u001b[0;34m\u001b[0m\u001b[0;34m\u001b[0m\u001b[0m\n\u001b[0;32m-> 1809\u001b[0;31m         \u001b[0mfunc\u001b[0m\u001b[0;34m(\u001b[0m\u001b[0mself\u001b[0m\u001b[0;34m.\u001b[0m\u001b[0mx\u001b[0m\u001b[0;34m,\u001b[0m \u001b[0;34m**\u001b[0m\u001b[0mkwargs\u001b[0m\u001b[0;34m)\u001b[0m\u001b[0;34m\u001b[0m\u001b[0;34m\u001b[0m\u001b[0m\n\u001b[0m\u001b[1;32m   1810\u001b[0m \u001b[0;34m\u001b[0m\u001b[0m\n\u001b[1;32m   1811\u001b[0m         \u001b[0mkwargs\u001b[0m\u001b[0;34m[\u001b[0m\u001b[0;34m\"vertical\"\u001b[0m\u001b[0;34m]\u001b[0m \u001b[0;34m=\u001b[0m \u001b[0;32mTrue\u001b[0m\u001b[0;34m\u001b[0m\u001b[0;34m\u001b[0m\u001b[0m\n",
      "\u001b[0;31mTypeError\u001b[0m: 'bool' object is not callable"
     ]
    }
   ],
   "source": [
    "tx, bx, ax\n",
    "\n",
    "g = sns.JointGrid(ax, bx, ratio=100)\n",
    "g.plot_marginals(False)\n",
    "g.plot_joint(sns.scatterplot)\n",
    "g.ax_marg_x.set_axis_off()\n",
    "g.ax_marg_y.set_axis_off()\n",
    "g.set_axis_labels(\"Angle\", \"Relative Brightness\")"
   ]
  },
  {
   "cell_type": "code",
   "execution_count": 69,
   "metadata": {},
   "outputs": [
    {
     "data": {
      "text/plain": [
       "<seaborn.axisgrid.JointGrid at 0x7f97a5cf6470>"
      ]
     },
     "execution_count": 69,
     "metadata": {},
     "output_type": "execute_result"
    },
    {
     "data": {
      "text/plain": [
       "Text(0.5, 1.0, '$\\\\delta t$')"
      ]
     },
     "execution_count": 69,
     "metadata": {},
     "output_type": "execute_result"
    }
   ],
   "source": [
    "sns.jointplot(ax,bx,s=100).set_axis_labels(\"Angle\", \"Relative Brightness\")\n",
    "plt.title(r'$\\delta t$')"
   ]
  },
  {
   "cell_type": "code",
   "execution_count": null,
   "metadata": {},
   "outputs": [],
   "source": [
    "b1   = np.concatenate((B1,B2))\n",
    "a1   = np.concatenate((TH1,TH2))\n",
    "args = np.argsort(a1)\n",
    "a2   = a1[args]\n",
    "b2   = b1[args]\n",
    "sns.jointplot(ax,bx,s=100).set_axis_labels(\"Angle\", \"Relative Brightness\")#"
   ]
  },
  {
   "cell_type": "code",
   "execution_count": null,
   "metadata": {},
   "outputs": [],
   "source": [
    "a2 = a2.reshape(-1,1)\n",
    "b2 = b2.reshape(-1,1)"
   ]
  },
  {
   "cell_type": "code",
   "execution_count": null,
   "metadata": {},
   "outputs": [],
   "source": [
    "sns.jointplot(a2, b2, kind=\"hex\")"
   ]
  },
  {
   "cell_type": "code",
   "execution_count": null,
   "metadata": {},
   "outputs": [],
   "source": [
    "import seaborn as sns\n",
    "#sns.heatmap(np.random.random((100,1)))\n",
    "from matplotlib import transforms\n",
    "tr = transforms.Affine2D().rotate_deg(90)\n",
    "#B = np.array([1,2,3,4,5,4,3,4,5,100])\n",
    "sns.heatmap(B.reshape(1,B.shape[0]), square=True)\n",
    "plt.show()"
   ]
  },
  {
   "cell_type": "code",
   "execution_count": null,
   "metadata": {},
   "outputs": [],
   "source": []
  }
 ],
 "metadata": {
  "kernelspec": {
   "display_name": "Python 3",
   "language": "python",
   "name": "python3"
  },
  "language_info": {
   "codemirror_mode": {
    "name": "ipython",
    "version": 3
   },
   "file_extension": ".py",
   "mimetype": "text/x-python",
   "name": "python",
   "nbconvert_exporter": "python",
   "pygments_lexer": "ipython3",
   "version": "3.7.3"
  }
 },
 "nbformat": 4,
 "nbformat_minor": 2
}
